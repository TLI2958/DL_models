{
 "cells": [
  {
   "cell_type": "markdown",
   "metadata": {
    "id": "5NwLQOFMMlev"
   },
   "source": [
    "# Computer Vision Assignment 1 Part 1\n",
    "---\n",
    "\n",
    "Semester: **Fall 2023**\n",
    "\n",
    "Due date: **October 5th 2023, 11.59PM EST.**\n",
    "\n",
    "## Introduction\n",
    "---\n",
    "\n",
    "This assignment is an introduction to using PyTorch for training simple neural net models. Two different datasets will be used:\n",
    "- MNIST (handwritten digits)\n",
    "- CIFAR-10 (32x32 resolution color images of 10 object classes)\n",
    "\n",
    "## Instructions\n",
    "---\n",
    "\n",
    "You should perform this assignment using Google Colab.\n",
    "* Before starting, clone this assignment using `File > Save a copy in Drive`.\n",
    "* After you're done, go through the notebook and ensure that you have answered all questions.\n",
    "* Finally, submit the ipynb `File > Download > Download .ipynb` on brightspace\n",
    "\n",
    "\n",
    "## 1. Warmup [5%]\n",
    "---\n",
    "\n",
    "It is always good practice to visually inspect your data before trying to train a model, since it lets you check for problems and get a feel for the task at hand. MNIST is a dataset of 70,000 grayscale hand-written digits (0 through 9).\n",
    "60,000 of these are training images. 10,000 are a held out test set. On the other hand, CIFAR-10 is a dataset of 60,000 color images (32 by 32 resolution) across 10 classes (airplane, automobile, bird, cat, deer, dog, frog, horse, ship, truck). The train/test split is 50k/10k.\n",
    "\n",
    "* (a) Display 10 random images from each class of MNIST\n",
    "* (b) Do the same for each class of CIFAR-10\n",
    "\n",
    "Use `matplotlib` and ipython notebook's visualization capabilities. See [this PyTorch tutorial page](http://pytorch.org/tutorials/beginner/blitz/cifar10_tutorial.html) for hints on how to achieve this.\n",
    "\n",
    "## 2. Training a Single Layer Network on MNIST [10%]\n",
    "---\n",
    "\n",
    "* (a) Start by running the training on MNIST and train the model for 20 epochs.\n",
    "By default, the model will train on MNIST.\n",
    "\n",
    "This will initialize a single layer model and train it on the 60,000 MNIST training images for 1 epoch (passes through the training data). The loss function ([cross_entropy](http://pytorch.org/docs/master/nn.html?highlight=cross_entropy#torch.nn.functional.cross_entropy)) computes a Logarithm of the Softmax on the output of the neural network, and then computes the negative log-likelihood w.r.t. the given `target`. The default values for the learning rate, batch size and number of epochs are given in the `options` cell of this notebook. Unless otherwise specified, use the default values throughout this assignment. Note the decrease in training loss and corresponding decrease in validation errors.\n",
    "\n",
    "* (b): Add code to plot out the network weights as images (one for each output, of size 28 by 28) after the last epoch. (Hint threads: [#1](https://discuss.pytorch.org/t/understanding-deep-network-visualize-weights/2060/2?u=smth) [#2](https://github.com/pytorch/vision#utils) )\n",
    "\n",
    "* (c): Reduce the number of training examples to just 50. (Hint: limit the iterator in the `train` function) and train the model until the loss converges. Explain what is happening to the model.\n",
    "\n",
    "## 3. Training a Multi-Layer Network on MNIST [10%]\n",
    "---\n",
    "\n",
    "* (a) Add an extra layer with 1000 hidden units and a `tanh` nonlinearity. (Hint: modify the `Net` class). Train the model for 10 epochs.\n",
    "* (b) Now set the learning rate to 10 and observe what happens during training. Give a brief explanation of your observations\n",
    "\n",
    "## 4. Training a Convolutional Network on CIFAR [25%]\n",
    "---\n",
    "\n",
    "To change over to the CIFAR-10 dataset, change the `options` cell's `dataset` variable to `'cifar10'`.\n",
    "\n",
    "- (a) Create a convolutional network with the following architecture:\n",
    "  - Convolution with 5 by 5 filters, 16 feature maps + Tanh nonlinearity.\n",
    "  - 2 by 2 max pooling (non-overlapping).\n",
    "  - Convolution with 5 by 5 filters, 128 feature maps + Tanh nonlinearity.\n",
    "  - 2 by 2 max pooling (non-overlapping).\n",
    "  - Flatten to vector.\n",
    "  - Linear layer with 64 hidden units + Tanh nonlinearity.\n",
    "  - Linear layer to 10 output units.\n",
    "\n",
    "* (b) Train it for 20 epochs on the CIFAR-10 training set. Show an image of the first layer filters.\n",
    "\n",
    "* (c) Give a breakdown of the parameters within the above model, and the overall number.\n",
    "\n",
    "Hints: [Follow the first PyTorch tutorial](http://pytorch.org/tutorials/beginner/blitz/neural_networks_tutorial.html) or look at the [MNIST example](https://github.com/pytorch/examples/tree/master/mnist). Also, you may speed up training if you use a GPU runtime (`RunTime > Change Runtime Type > GPU`)."
   ]
  },
  {
   "cell_type": "code",
   "execution_count": 1,
   "metadata": {
    "id": "CrnqiscEKGWv"
   },
   "outputs": [],
   "source": [
    "# Imports\n",
    "import torch\n",
    "import torch.nn as nn\n",
    "import torch.nn.functional as F\n",
    "import torch.optim as optim\n",
    "from torchvision import datasets, transforms"
   ]
  },
  {
   "cell_type": "code",
   "execution_count": 2,
   "metadata": {
    "id": "V0NBWksLKRD7"
   },
   "outputs": [],
   "source": [
    "# Options\n",
    "dataset = 'mnist' # options: 'mnist' | 'cifar10'\n",
    "batch_size = 64   # input batch size for training\n",
    "epochs = 20       # number of epochs to train\n",
    "lr = 0.01        # learning rate"
   ]
  },
  {
   "cell_type": "code",
   "execution_count": 3,
   "metadata": {
    "id": "ab7pqvGUKVVf"
   },
   "outputs": [],
   "source": [
    "# Data Loading\n",
    "# This cell might take some time when you run it for the first time,\n",
    "# because it will download the datasets from the internet\n",
    "if dataset == 'mnist':\n",
    "    data_transform = transforms.Compose([\n",
    "        transforms.ToTensor(),\n",
    "        transforms.Normalize((0.1307,), (0.3081,))\n",
    "    ])\n",
    "    trainset = datasets.MNIST(root='.', train=True, download=True, transform=data_transform)\n",
    "    testset = datasets.MNIST(root='.', train=False, download=True, transform=data_transform)\n",
    "\n",
    "elif dataset == 'cifar10':\n",
    "    data_transform = transforms.Compose([\n",
    "        transforms.ToTensor(),\n",
    "        transforms.Normalize((0.5, 0.5, 0.5), (0.5, 0.5, 0.5)),\n",
    "    ])\n",
    "    trainset = datasets.CIFAR10(root='.', train=True, download=True, transform=data_transform)\n",
    "    testset = datasets.CIFAR10(root='.', train=False, download=True, transform=data_transform)\n",
    "\n",
    "train_loader = torch.utils.data.DataLoader(trainset, batch_size=batch_size, shuffle=True, num_workers=0)\n",
    "test_loader  = torch.utils.data.DataLoader(testset, batch_size=batch_size, shuffle=False, num_workers=0)"
   ]
  },
  {
   "cell_type": "code",
   "execution_count": 4,
   "metadata": {
    "id": "vKZ66qf0Uo2X"
   },
   "outputs": [],
   "source": [
    "import matplotlib.pyplot as plt\n",
    "import numpy as np\n",
    "import torchvision\n",
    "num_classes = 10\n",
    "\n",
    "def imshow(img):\n",
    "  img = img / 2 + 0.5     # unnormalize\n",
    "  # npimg = img.numpy()\n",
    "  img = torch.clamp(img, 0, 1)\n",
    "  fig, ax = plt.subplots()\n",
    "  ax.imshow(np.transpose(img, (1, 2, 0)))\n",
    "  ax.set_facecolor('white')  # Set the background color of the figure to white\n",
    "  ax.axis('off')\n",
    "  plt.show()\n",
    "\n",
    "# get some random training images\n",
    "class_examples = {i: [] for i in range(num_classes)}\n",
    "\n",
    "for img, label in trainset:\n",
    "    if len(class_examples[label]) < 10:\n",
    "        class_examples[label].append(img)\n",
    "    if all(len(class_examples[i]) == 10 for i in class_examples):\n",
    "        break"
   ]
  },
  {
   "cell_type": "code",
   "execution_count": null,
   "metadata": {
    "colab": {
     "base_uri": "https://localhost:8080/",
     "height": 1000
    },
    "id": "CEsImYDTvdP2",
    "outputId": "60f40b37-0ae3-4dcf-bf11-1b6717da5e96"
   },
   "outputs": [],
   "source": [
    "for i in class_examples.keys():\n",
    "    print(f'\\bClass: {trainset.classes[i]}')\n",
    "    imshow(torchvision.utils.make_grid(class_examples[i],))"
   ]
  },
  {
   "cell_type": "code",
   "execution_count": 5,
   "metadata": {
    "id": "mRkBGjAEKZM0"
   },
   "outputs": [],
   "source": [
    "## network and optimizer\n",
    "if dataset == 'mnist':\n",
    "    num_inputs = 784\n",
    "elif dataset == 'cifar10':\n",
    "    num_inputs = 3072\n",
    "\n",
    "num_outputs = 10 # same for both CIFAR10 and MNIST, both have 10 classes as outputs\n",
    "num_hidden = num_inputs\n",
    "class Net(nn.Module):\n",
    "    def __init__(self, num_inputs, num_hidden, num_outputs):\n",
    "        super(Net, self).__init__()\n",
    "        self.i2h = nn.Linear(num_inputs, num_hidden)\n",
    "        self.h2o = nn.Linear(num_hidden, num_outputs)\n",
    "        self.tanh = nn.Tanh()\n",
    "\n",
    "\n",
    "    def forward(self, input):\n",
    "        input = input.view(-1, num_inputs) # reshape input to batch x num_inputs\n",
    "        # hidden = self.i2h(input)\n",
    "        # hidden = self.tanh(hidden)\n",
    "        # output = self.h2o(hidden)\n",
    "        output = self.h2o(input)\n",
    "        return output\n",
    "\n",
    "network = Net(num_inputs, num_hidden, num_outputs)\n",
    "optimizer = optim.SGD(network.parameters(), lr=lr)"
   ]
  },
  {
   "cell_type": "code",
   "execution_count": 13,
   "metadata": {
    "id": "3DfrCg4-Kfq6"
   },
   "outputs": [],
   "source": [
    "def train(epoch):\n",
    "    network.train()\n",
    "    for i in range(1, epoch + 1):\n",
    "    #   total_loss = 0\n",
    "      for batch_idx, (data, target) in enumerate(train_loader):\n",
    "          optimizer.zero_grad()\n",
    "          output = network(data)\n",
    "          loss = F.cross_entropy(output, target)\n",
    "        #   total_loss += loss.detach().cpu().item()\n",
    "          loss.backward()\n",
    "          optimizer.step()\n",
    "          # if batch_idx >= 50:\n",
    "          #   break\n",
    "    #   print('Train Epoch: {} [{}/{} ({:.0f}%)]\\tLoss: {:.6f}'.format(\n",
    "    #         i+1, batch_idx, len(train_loader),\n",
    "    #         100. * batch_idx / len(train_loader), total_loss/len(train_loader)))\n",
    "\n",
    "          if batch_idx % 100 == 0:\n",
    "              print('Train Epoch: {} [{}/{} ({:.0f}%)]\\tLoss: {:.6f}'.format(\n",
    "                  i+1, batch_idx * len(data), len(train_loader.dataset),\n",
    "                  100. * batch_idx / len(train_loader), loss.item()))\n",
    "\n",
    "def test():\n",
    "    network.eval()\n",
    "    test_loss = 0\n",
    "    correct = 0\n",
    "    for data, target in test_loader:\n",
    "        output = network(data)\n",
    "        test_loss += F.cross_entropy(output, target, reduction='sum').item() # sum up batch loss\n",
    "        pred = output.data.max(1, keepdim=True)[1] # get the index of the max log-probability\n",
    "        correct += pred.eq(target.data.view_as(pred)).cpu().sum()\n",
    "\n",
    "    test_loss /= len(test_loader.dataset)\n",
    "    print('\\nTest set: Average loss: {:.4f}, Accuracy: {}/{} ({:.0f}%)\\n'.format(\n",
    "        test_loss, correct, len(test_loader.dataset),\n",
    "        100. * correct / len(test_loader.dataset)))\n"
   ]
  },
  {
   "cell_type": "code",
   "execution_count": 7,
   "metadata": {
    "colab": {
     "base_uri": "https://localhost:8080/"
    },
    "id": "c52XmoeCKja2",
    "outputId": "3274a7d8-f8cc-4033-b6ac-f9e09b0db803"
   },
   "outputs": [
    {
     "data": {
      "text/plain": [
       "<All keys matched successfully>"
      ]
     },
     "execution_count": 7,
     "metadata": {},
     "output_type": "execute_result"
    }
   ],
   "source": [
    "network = Net(num_inputs, num_hidden, num_outputs)\n",
    "optimizer = optim.SGD(network.parameters(), lr=lr)\n",
    "# train(20)\n",
    "\n",
    "# torch.save(network.state_dict(), f'{dataset}_model.pth')\n",
    "\n",
    "network.load_state_dict(torch.load(f'{dataset}_model.pth'))"
   ]
  },
  {
   "cell_type": "code",
   "execution_count": 8,
   "metadata": {
    "colab": {
     "base_uri": "https://localhost:8080/"
    },
    "id": "4Nfl06zkKmfX",
    "outputId": "1f1b98dc-16bf-4497-c5f5-b0d2dc584387"
   },
   "outputs": [
    {
     "name": "stdout",
     "output_type": "stream",
     "text": [
      "\n",
      "Test set: Average loss: 0.2713, Accuracy: 9242/10000 (92%)\n",
      "\n"
     ]
    }
   ],
   "source": [
    "test()"
   ]
  },
  {
   "cell_type": "markdown",
   "metadata": {
    "id": "DB6-Mo4sdgoh"
   },
   "source": [
    "### 2(b)"
   ]
  },
  {
   "cell_type": "code",
   "execution_count": 11,
   "metadata": {},
   "outputs": [
    {
     "name": "stderr",
     "output_type": "stream",
     "text": [
      "Setting up a new session...\n"
     ]
    }
   ],
   "source": [
    "# import visdom\n",
    "\n",
    "# vis = visdom.Visdom()\n",
    "# weights = network.h2o.weight.data.view(-1, 28, 28).numpy()\n",
    "# for i in range(num_classes):\n",
    "#     vis.heatmap(weights[i], opts=dict(title=f'{trainset.classes[i]}'))\n",
    "    "
   ]
  },
  {
   "cell_type": "code",
   "execution_count": 15,
   "metadata": {},
   "outputs": [],
   "source": [
    "num_inputs = 3\n",
    "num_outputs = 10 # same for both CIFAR10 and MNIST, both have 10 classes as outputs\n",
    "hidden_size = [16, 128]\n",
    "fc_size = [128*5*5, 64]\n",
    "class enhanced_net(nn.Module):\n",
    "    def __init__(self, num_inputs, hidden_size, fc_size, num_outputs):\n",
    "        super(enhanced_net, self).__init__() \n",
    "        modules = []\n",
    "        for i in hidden_size:\n",
    "            modules.append(nn.Conv2d(num_inputs, i, kernel_size=5,))\n",
    "            modules.append(nn.Tanh())\n",
    "            modules.append(nn.MaxPool2d(2, padding = 0))\n",
    "            num_inputs = i\n",
    "        self.conv = nn.Sequential(*modules)\n",
    "        self.fc = nn.Sequential(nn.Linear(fc_size[-2], fc_size[-1]),\n",
    "                                nn.Tanh(),\n",
    "                                nn.Linear(fc_size[-1], num_outputs))\n",
    "\n",
    "\n",
    "\n",
    "    def forward(self, input):\n",
    "        out = self.conv(input)\n",
    "        out = out.view(out.shape[0], -1)\n",
    "        out = self.fc(out)\n",
    "        return out"
   ]
  },
  {
   "cell_type": "code",
   "execution_count": 16,
   "metadata": {},
   "outputs": [],
   "source": [
    "network = enhanced_net(num_inputs = num_inputs, hidden_size = hidden_size, fc_size= fc_size, num_outputs = num_outputs)\n",
    "optimizer = optim.SGD(network.parameters(), lr=lr)"
   ]
  },
  {
   "cell_type": "code",
   "execution_count": null,
   "metadata": {},
   "outputs": [],
   "source": [
    "train(20)\n",
    "\n",
    "torch.save(network.state_dict(), f'{dataset}_model_20.pth')\n",
    "network.load_state_dict(torch.load(f'{dataset}_model_20.pth'))"
   ]
  },
  {
   "cell_type": "code",
   "execution_count": 18,
   "metadata": {},
   "outputs": [
    {
     "name": "stdout",
     "output_type": "stream",
     "text": [
      "\n",
      "Test set: Average loss: 0.9351, Accuracy: 6721/10000 (67%)\n",
      "\n"
     ]
    }
   ],
   "source": [
    "test()"
   ]
  },
  {
   "cell_type": "code",
   "execution_count": 19,
   "metadata": {},
   "outputs": [
    {
     "name": "stdout",
     "output_type": "stream",
     "text": [
      "conv.0.weight        1200                \n",
      "conv.0.bias          16                  \n",
      "conv.3.weight        51200               \n",
      "conv.3.bias          128                 \n",
      "fc.0.weight          204800              \n",
      "fc.0.bias            64                  \n",
      "fc.2.weight          640                 \n",
      "fc.2.bias            10                  \n",
      "total params\t\t258058              \n"
     ]
    }
   ],
   "source": [
    "total_params = 0\n",
    "for name, param in network.named_parameters():\n",
    "    if param.requires_grad:\n",
    "        layer_params = param.numel()\n",
    "        total_params += layer_params\n",
    "        print(f\"{name:<20} {layer_params:<20}\")\n",
    "\n",
    "print(f\"total params\\t\\t{total_params:<20}\")"
   ]
  },
  {
   "cell_type": "code",
   "execution_count": 25,
   "metadata": {},
   "outputs": [
    {
     "data": {
      "text/plain": [
       "==========================================================================================\n",
       "Layer (type:depth-idx)                   Output Shape              Param #\n",
       "==========================================================================================\n",
       "enhanced_net                             [32, 10]                  --\n",
       "├─Sequential: 1-1                        [32, 128, 5, 5]           --\n",
       "│    └─Conv2d: 2-1                       [32, 16, 28, 28]          1,216\n",
       "│    └─Tanh: 2-2                         [32, 16, 28, 28]          --\n",
       "│    └─MaxPool2d: 2-3                    [32, 16, 14, 14]          --\n",
       "│    └─Conv2d: 2-4                       [32, 128, 10, 10]         51,328\n",
       "│    └─Tanh: 2-5                         [32, 128, 10, 10]         --\n",
       "│    └─MaxPool2d: 2-6                    [32, 128, 5, 5]           --\n",
       "├─Sequential: 1-2                        [32, 10]                  --\n",
       "│    └─Linear: 2-7                       [32, 64]                  204,864\n",
       "│    └─Tanh: 2-8                         [32, 64]                  --\n",
       "│    └─Linear: 2-9                       [32, 10]                  650\n",
       "==========================================================================================\n",
       "Total params: 258,058\n",
       "Trainable params: 258,058\n",
       "Non-trainable params: 0\n",
       "Total mult-adds (Units.MEGABYTES): 201.33\n",
       "==========================================================================================\n",
       "Input size (MB): 0.39\n",
       "Forward/backward pass size (MB): 6.51\n",
       "Params size (MB): 1.03\n",
       "Estimated Total Size (MB): 7.93\n",
       "=========================================================================================="
      ]
     },
     "execution_count": 25,
     "metadata": {},
     "output_type": "execute_result"
    }
   ],
   "source": [
    "from torchinfo import summary\n",
    "summary(network, input_size=(32, 3, 32, 32))"
   ]
  },
  {
   "cell_type": "code",
   "execution_count": 42,
   "metadata": {},
   "outputs": [],
   "source": [
    "first_conv_layer = network.conv[0]  # Conv2d(3, 16, kernel_size=(5, 5), stride=(1, 1))\n",
    "first_conv_weights = first_conv_layer.weight.data.cpu()  # Shape: [16, 3, 5, 5]\n"
   ]
  },
  {
   "cell_type": "code",
   "execution_count": 43,
   "metadata": {},
   "outputs": [
    {
     "data": {
      "image/png": "[encoded data removed]",
      "text/plain": [
       "<Figure size 800x800 with 1 Axes>"
      ]
     },
     "metadata": {},
     "output_type": "display_data"
    }
   ],
   "source": [
    "# Visualize using torchvision's make_grid\n",
    "plt.figure(figsize=(8, 8))\n",
    "grid = torchvision.utils.make_grid(first_conv_weights, nrow=4, normalize=True, scale_each=True)\n",
    "plt.imshow(grid.permute(1, 2, 0))  # Change the order of dimensions to (H, W, C) for display\n",
    "plt.title(\"Filters of the first conv layer\")\n",
    "plt.show()"
   ]
  },
  {
   "cell_type": "code",
   "execution_count": 72,
   "metadata": {},
   "outputs": [
    {
     "data": {
      "text/plain": [
       "<Axes: >"
      ]
     },
     "execution_count": 72,
     "metadata": {},
     "output_type": "execute_result"
    }
   ],
   "source": [
    "axes"
   ]
  },
  {
   "cell_type": "code",
   "execution_count": null,
   "metadata": {},
   "outputs": [],
   "source": []
  }
 ],
 "metadata": {
  "accelerator": "GPU",
  "colab": {
   "provenance": []
  },
  "kernelspec": {
   "display_name": "Python 3 (ipykernel)",
   "language": "python",
   "name": "python3"
  },
  "language_info": {
   "codemirror_mode": {
    "name": "ipython",
    "version": 3
   },
   "file_extension": ".py",
   "mimetype": "text/x-python",
   "name": "python",
   "nbconvert_exporter": "python",
   "pygments_lexer": "ipython3",
   "version": "3.11.7"
  }
 },
 "nbformat": 4,
 "nbformat_minor": 4
}
