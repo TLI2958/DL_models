{
 "cells": [
  {
   "cell_type": "markdown",
   "metadata": {
    "id": "vN5lM2csj9v7"
   },
   "source": [
    "# Computer Vision Assignment 1 Part 2\n",
    "---\n",
    "\n",
    "Semester: **Fall 2023**\n",
    "\n",
    "Due date: **October 5th 2023, 11.59PM EST.**\n",
    "\n",
    "## Introduction\n",
    "---\n",
    "This assignment requires you to participate in a Kaggle competition with the rest of the class on the [German Traffic Sign Recognition Benchmark](http://benchmark.ini.rub.de/?section=gtsrb). The objective is to produce a model that gives the highest possible accuracy on the test portion of this dataset. You can register for the competition using the [private link](https://www.kaggle.com/t/f198351e92ff46d5a839fd73d22e9cbc).\n",
    "\n",
    "Skeleton code is provided in the colab below. This contains code for training a simple default model and evaluating it on the test set. The evaluation script produces a file `gtsrb_kaggle.csv` that lists the IDs of the test set images, along with their predicted label. This file should be uploaded to the Kaggle webpage, which will then produce a test accuracy score.\n",
    "\n",
    "Your goal is to implement a new model architecture that improves upon the baseline performance. You are free to implement any approach covered in class or from research papers. This part will count for 50% of the overall grade for assignment 1. This Grading will depend on your Kaggle performance and rank, as well as novelty of the architecture.  \n",
    "\n",
    "## Rules\n",
    "---\n",
    "You should make a copy of this Colab (`File->Save a copy in Drive`). Please start the assignment early and don’t be afraid to ask for help from either the TAs or myself. You are allowed to collaborate with other students in terms discussing ideas and possible solutions. However you code up the solution yourself, i.e. you must write your own code. Copying your friends code and just changing all the names of the variables is NOT ALLOWED! You are not allowed to use solutions from similar assignments in courses from other institutions, or those found elsewhere on the web.\n",
    "\n",
    "Your solutions should be submitted via the Brightspace system. This should include a brief description (in the Colab) explaining the model architectures you explored, citing any relevant papers or techniques that you used. You should also include convergence plots of training accuracy vs epoch for relevant models.\n",
    "\n",
    "## Important Details\n",
    "---\n",
    "• You are only allowed 8 submissions to the Kaggle evaluation server per day. This is to prevent over-fitting on the test dataset. So be sure to start the assignment early!\n",
    "\n",
    "• You are NOT ALLOWED to use the test set labels during training in any way. Doing so will be regarded as cheating and penalized accordingly.\n",
    "\n",
    "• The evaluation metric is accuracy, i.e. the fraction of test set examples where the predicted label agrees with the ground truth label.\n",
    "\n",
    "• You should be able to achieve a test accuracy of at least 95%\n",
    "\n",
    "• **Extra important:** Please use your NYU NetID as your team name on Kaggle, so the TAs can figure out which user you are on the leaderboard.\n",
    "\n",
    "# Dataset Preparation\n",
    "___\n",
    "\n",
    "1.  Download [`dataset.zip`](https://cs.nyu.edu/~fergus/teaching/vision/dataset.zip) from the course website to your local machine.\n",
    "2.  Unzip the file. You should see a `dataset` directory with three subfolders: `training`, `validation`, and `testing`.\n",
    "3.  Go to Google Drive (on your NYU account) and make a new directory (say `cv_kaggle_assignment`).\n",
    "4.  Upload each of the three subfolders to it.\n",
    "5.  Run the code block below. It will ask for permission to mount your Google Drive (NYU account) so this colab can access it. Paste the authorization code into the box as requested.\n"
   ]
  },
  {
   "cell_type": "code",
   "execution_count": 1,
   "metadata": {
    "colab": {
     "base_uri": "https://localhost:8080/"
    },
    "executionInfo": {
     "elapsed": 2942,
     "status": "ok",
     "timestamp": 1666719144968,
     "user": {
      "displayName": "Nikhil Verma",
      "userId": "05882278189585936627"
     },
     "user_tz": 240
    },
    "id": "o0aPnIKXpWbN",
    "outputId": "2fffa545-6ed0-4580-93c4-079c19fa075c"
   },
   "outputs": [
    {
     "name": "stdout",
     "output_type": "stream",
     "text": [
      "/scratch/tl2546/DL_HW/cv_kaggle_assignment\n"
     ]
    }
   ],
   "source": [
    "# Load the Drive helper and mount\n",
    "# from google.colab import drive\n",
    "# drive.mount('/content/drive', force_remount=True)\n",
    "%cd  'cv_kaggle_assignment/'"
   ]
  },
  {
   "cell_type": "markdown",
   "metadata": {
    "id": "_6jVfIVtrn5u"
   },
   "source": [
    "# Dataloader"
   ]
  },
  {
   "cell_type": "code",
   "execution_count": 2,
   "metadata": {
    "id": "z21UKj_bT--_"
   },
   "outputs": [],
   "source": [
    "import torch\n",
    "from torch.utils.data import Dataset\n",
    "import torch.nn as nn\n",
    "import torch.nn.functional as F\n",
    "import torch.optim as optim\n",
    "from torchvision import datasets, transforms\n",
    "import torchvision\n",
    "\n",
    "batch_size = 32\n",
    "momentum = 0.9\n",
    "lr = 0.01\n",
    "epochs = 10\n",
    "log_interval = 100\n",
    "\n",
    "normalize = transforms.Normalize(mean=[0.485, 0.456, 0.406],\n",
    "                                 std=[0.229, 0.224, 0.225])\n",
    "train_transforms = transforms.Compose([\n",
    "                                    transforms.Resize((32, 32)),\n",
    "                                    # transforms.ColorJitter(hue=.01, saturation=.01, contrast=.01),\n",
    "                                    transforms.RandomRotation(10, interpolation=transforms.InterpolationMode.BILINEAR),\n",
    "                                    transforms.GaussianBlur(3, sigma=(0.1, 0.5)),  # Smaller kernel for blur\n",
    "                                    normalize\n",
    "                                ])\n",
    "\n",
    "class MyDataset(Dataset):\n",
    "\n",
    "    def __init__(self, X_path=\"X.pt\", y_path=\"y.pt\", transform = train_transforms):\n",
    "\n",
    "        self.X = torch.load(X_path).squeeze(1)\n",
    "        self.y = torch.load(y_path).squeeze(1)\n",
    "        self.transform = transform\n",
    "\n",
    "    def __len__(self):\n",
    "        return self.X.size(0)\n",
    "\n",
    "    def __getitem__(self, idx):\n",
    "        if self.transform:\n",
    "            return self.transform(self.X[idx]), self.y[idx]\n",
    "        return self.X[idx], self.y[idx]\n",
    "\n",
    "train_dataset = MyDataset(X_path=\"train/X.pt\", y_path=\"train/y.pt\", transform = None)\n",
    "val_dataset = MyDataset(X_path=\"validation/X.pt\", y_path=\"validation/y.pt\")\n",
    "\n",
    "train_loader = torch.utils.data.DataLoader(\n",
    "    train_dataset, batch_size=batch_size, shuffle=True, num_workers=1)\n",
    "\n",
    "val_loader = torch.utils.data.DataLoader(\n",
    "    val_dataset, batch_size=batch_size, shuffle=True, num_workers=1)"
   ]
  },
  {
   "cell_type": "code",
   "execution_count": 3,
   "metadata": {},
   "outputs": [],
   "source": [
    "import matplotlib.pyplot as plt\n",
    "import numpy as np \n",
    "\n",
    "num_classes = 43\n",
    "\n",
    "def imshow(img):\n",
    "  img = img / 2 + 0.5     # unnormalize\n",
    "  # npimg = img.numpy()\n",
    "  img = torch.clamp(img, 0, 1)\n",
    "  fig, ax = plt.subplots()\n",
    "  ax.imshow(np.transpose(img, (1, 2, 0)), )\n",
    "  ax.set_facecolor('white')  # Set the background color of the figure to white\n",
    "  ax.axis('off')\n",
    "  plt.show()\n",
    "\n",
    "class_examples = {i: [] for i in range(num_classes)}\n",
    "\n",
    "for img, label in train_dataset:\n",
    "    if len(class_examples[label.item()]) < 10:\n",
    "        class_examples[label.item()].append(img)\n",
    "    if all(len(class_examples[i]) == 10 for i in class_examples):\n",
    "        break"
   ]
  },
  {
   "cell_type": "code",
   "execution_count": null,
   "metadata": {
    "id": "Qd6W0pQRvZKO"
   },
   "outputs": [],
   "source": [
    "for i in class_examples.keys():\n",
    "    # print(f'Class: {i}')\n",
    "    imshow(torchvision.utils.make_grid(class_examples[i],))"
   ]
  },
  {
   "cell_type": "code",
   "execution_count": 4,
   "metadata": {
    "id": "zeev4SoMvazV"
   },
   "outputs": [],
   "source": [
    "import torch\n",
    "import torch.nn as nn\n",
    "import torch.nn.functional as F\n",
    "\n",
    "nclasses = 43 # GTSRB has 43 classes\n",
    "\n",
    "class Net(nn.Module):\n",
    "    def __init__(self):\n",
    "        super(Net, self).__init__()\n",
    "        self.conv1 = nn.Conv2d(3, 10, kernel_size=5)\n",
    "        self.conv2 = nn.Conv2d(10, 20, kernel_size=5)\n",
    "        self.conv2_drop = nn.Dropout2d()\n",
    "        self.fc1 = nn.Linear(500, 50)\n",
    "        self.fc2 = nn.Linear(50, nclasses)\n",
    "\n",
    "    def forward(self, x):\n",
    "        x = F.relu(F.max_pool2d(self.conv1(x), 2))\n",
    "        x = F.relu(F.max_pool2d(self.conv2_drop(self.conv2(x)), 2))\n",
    "        x = x.view(-1, 500)\n",
    "        x = F.relu(self.fc1(x))\n",
    "        x = F.dropout(x, training=self.training)\n",
    "        x = self.fc2(x)\n",
    "        return F.log_softmax(x,dim=1)\n"
   ]
  },
  {
   "cell_type": "code",
   "execution_count": 7,
   "metadata": {},
   "outputs": [],
   "source": [
    "import torch\n",
    "import torch.nn as nn\n",
    "import torch.nn.functional as F\n",
    "\n",
    "nclasses = 43 # GTSRB has 43 classes\n",
    "\n",
    "class Net(nn.Module):\n",
    "    def __init__(self):\n",
    "        super(Net, self).__init__()\n",
    "        self.conv1 = nn.Conv2d(3, 32, kernel_size=5, padding = 2)\n",
    "        self.conv1_skip = nn.Conv2d(3, 32, kernel_size = 1)\n",
    "        self.bn1 = nn.BatchNorm2d(32)\n",
    "        self.conv2 = nn.Conv2d(32, 64, kernel_size=5, padding = 2)\n",
    "        self.conv2_skip = nn.Conv2d(32, 64, kernel_size = 1)\n",
    "        self.bn2 = nn.BatchNorm2d(64)\n",
    "        self.conv2_drop = nn.Dropout2d(0.2)\n",
    "        # self.conv3 = nn.Conv2d(128, 256, kernel_size=3)\n",
    "        # self.bn3 = nn.BatchNorm2d(256)\n",
    "\n",
    "        self.fc1 = nn.Linear(64*64, 80)\n",
    "        self.fc2 = nn.Linear(80, nclasses)\n",
    "\n",
    "\n",
    "    def forward(self, x):\n",
    "        out = F.gelu(self.bn1(self.conv1(x)))\n",
    "        out = F.max_pool2d(F.gelu(out.detach() + self.conv1_skip(x)), 2)\n",
    "        x = F.gelu(out)\n",
    "                \n",
    "        out = F.gelu(self.bn2(self.conv2(x)))\n",
    "        out = F.max_pool2d(F.gelu(out.detach() + self.conv2_skip(x)), 2)\n",
    "        x = F.gelu(out)\n",
    "        x = x.view(-1, 64*64)\n",
    "        \n",
    "        x = F.gelu(self.fc1(x))\n",
    "        x = F.dropout(x, training=self.training)\n",
    "        x = self.fc2(x)\n",
    "        return F.log_softmax(x, dim=1)\n"
   ]
  },
  {
   "cell_type": "markdown",
   "metadata": {
    "id": "Ty9TAvrdvf8C"
   },
   "source": [
    "# Training"
   ]
  },
  {
   "cell_type": "code",
   "execution_count": null,
   "metadata": {
    "colab": {
     "base_uri": "https://localhost:8080/"
    },
    "executionInfo": {
     "elapsed": 111709,
     "status": "ok",
     "timestamp": 1666719267491,
     "user": {
      "displayName": "Nikhil Verma",
      "userId": "05882278189585936627"
     },
     "user_tz": 240
    },
    "id": "_A5-OCgBvhXv",
    "outputId": "085af408-530e-40ab-e34a-e61b45593025"
   },
   "outputs": [],
   "source": [
    "model = Net()\n",
    "\n",
    "optimizer = optim.SGD(model.parameters(), lr=lr, weight_decay= 1e-3, momentum=momentum)\n",
    "\n",
    "def train(epoch):\n",
    "    model.train()\n",
    "    for batch_idx, (data, target) in enumerate(train_loader):\n",
    "        optimizer.zero_grad()\n",
    "        output = model(data)\n",
    "        loss = F.nll_loss(output, target)\n",
    "        loss.backward()\n",
    "        optimizer.step()\n",
    "        if batch_idx % log_interval == 0:\n",
    "            print('Train Epoch: {} [{}/{} ({:.0f}%)]\\tLoss: {:.6f}'.format(\n",
    "                epoch, batch_idx * len(data), len(train_loader.dataset),\n",
    "                100. * batch_idx / len(train_loader), loss.item()))\n",
    "\n",
    "def validation():\n",
    "    model.eval()\n",
    "    validation_loss = 0\n",
    "    correct = 0\n",
    "    for data, target in val_loader:\n",
    "        output = model(data)\n",
    "        validation_loss += F.nll_loss(output, target, reduction=\"sum\").item() # sum up batch loss\n",
    "        pred = output.data.max(1, keepdim=True)[1] # get the index of the max log-probability\n",
    "        correct += pred.eq(target.data.view_as(pred)).cpu().sum()\n",
    "\n",
    "    validation_loss /= len(val_loader.dataset)\n",
    "    print('\\nValidation set: Average loss: {:.4f}, Accuracy: {}/{} ({:.0f}%)\\n'.format(\n",
    "        validation_loss, correct, len(val_loader.dataset),\n",
    "        100. * correct / len(val_loader.dataset)))\n",
    "\n",
    "\n",
    "for epoch in range(1, epochs + 1):\n",
    "    train(epoch)\n",
    "    validation()\n",
    "    model_file = 'model_' + str(epoch) + '.pth'\n",
    "    torch.save(model.state_dict(), model_file)\n",
    "    print('\\nSaved model to ' + model_file + '.')"
   ]
  },
  {
   "cell_type": "markdown",
   "metadata": {
    "id": "eVN1f1p7w59X"
   },
   "source": [
    "# Evaluate and Submit to Kaggle\n",
    "\n"
   ]
  },
  {
   "cell_type": "code",
   "execution_count": 57,
   "metadata": {
    "colab": {
     "base_uri": "https://localhost:8080/"
    },
    "executionInfo": {
     "elapsed": 9952,
     "status": "ok",
     "timestamp": 1666719277440,
     "user": {
      "displayName": "Nikhil Verma",
      "userId": "05882278189585936627"
     },
     "user_tz": 240
    },
    "id": "_BM5qP64w5zB",
    "outputId": "ff607818-89b0-49f3-98de-a07b4838ee34"
   },
   "outputs": [
    {
     "name": "stdout",
     "output_type": "stream",
     "text": [
      "Written to csv file gtsrb_kaggle.csv\n"
     ]
    }
   ],
   "source": [
    "import pickle\n",
    "import pandas as pd\n",
    "\n",
    "outfile = 'gtsrb_kaggle.csv'\n",
    "\n",
    "output_file = open(outfile, \"w\")\n",
    "dataframe_dict = {\"Filename\" : [], \"ClassId\": []}\n",
    "\n",
    "test_data = torch.load('testing/test.pt')\n",
    "file_ids = pickle.load(open('testing/file_ids.pkl', 'rb'))\n",
    "model.eval() # Don't forget to put your model on eval mode !\n",
    "\n",
    "for i, data in enumerate(test_data):\n",
    "    data = data.unsqueeze(0)\n",
    "\n",
    "    output = model(data)\n",
    "    pred = output.data.max(1, keepdim=True)[1].item()\n",
    "    file_id = file_ids[i][0:5]\n",
    "    dataframe_dict['Filename'].append(file_id)\n",
    "    dataframe_dict['ClassId'].append(pred)\n",
    "\n",
    "df = pd.DataFrame(data=dataframe_dict)\n",
    "df.to_csv(outfile, index=False)\n",
    "print(\"Written to csv file {}\".format(outfile))"
   ]
  },
  {
   "cell_type": "markdown",
   "metadata": {
    "id": "BhSl_4kn6sox"
   },
   "source": [
    "# Submitting to Kaggle\n",
    "\n",
    "Now download the CSV file `grtsrb_kaggle.csv` from your Google drive and then submit it to Kaggle to check the performance of your model.\n",
    "\n",
    "**Extra important:** Please use your NYU NetID as your team name on Kaggle, or your submissions will not be evaluated.  \n",
    "You can rename your team easily from the Team tab: https://www.kaggle.com/competitions/nyu-computer-vision-csci-ga2271-2022/team."
   ]
  }
 ],
 "metadata": {
  "colab": {
   "provenance": [
    {
     "file_id": "18LrmdwjWwuRw_U3qbLLfFZoDWAZeDlxt",
     "timestamp": 1725910796699
    },
    {
     "file_id": "1dd6QGc2yN2JTNl7bNBcK53xSjtJmwymq",
     "timestamp": 1662565301382
    },
    {
     "file_id": "1sLrcEw78KFZr6v6nySKtq1YSo1XQ119s",
     "timestamp": 1599617367386
    },
    {
     "file_id": "1c38tHdClrZzwP9yVLMGXYCAKubpdKvlq",
     "timestamp": 1599604973675
    }
   ]
  },
  "kernelspec": {
   "display_name": "Python 3 (ipykernel)",
   "language": "python",
   "name": "python3"
  },
  "language_info": {
   "codemirror_mode": {
    "name": "ipython",
    "version": 3
   },
   "file_extension": ".py",
   "mimetype": "text/x-python",
   "name": "python",
   "nbconvert_exporter": "python",
   "pygments_lexer": "ipython3",
   "version": "3.11.7"
  }
 },
 "nbformat": 4,
 "nbformat_minor": 4
}
